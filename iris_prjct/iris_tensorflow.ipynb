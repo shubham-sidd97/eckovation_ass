{
 "cells": [
  {
   "cell_type": "code",
   "execution_count": 1,
   "metadata": {},
   "outputs": [
    {
     "name": "stderr",
     "output_type": "stream",
     "text": [
      "C:\\Users\\4shub\\Anaconda3\\lib\\site-packages\\h5py\\__init__.py:36: FutureWarning: Conversion of the second argument of issubdtype from `float` to `np.floating` is deprecated. In future, it will be treated as `np.float64 == np.dtype(float).type`.\n",
      "  from ._conv import register_converters as _register_converters\n"
     ]
    }
   ],
   "source": [
    "import pandas as pd\n",
    "import tensorflow as tf\n",
    "import numpy as np\n",
    "import sklearn\n",
    "import sklearn.model_selection"
   ]
  },
  {
   "cell_type": "code",
   "execution_count": 2,
   "metadata": {},
   "outputs": [],
   "source": [
    "df=pd.read_csv(\"iris.csv\")"
   ]
  },
  {
   "cell_type": "code",
   "execution_count": 3,
   "metadata": {},
   "outputs": [],
   "source": [
    "y=df[\"Species\"]\n",
    "df=df.drop([\"Species\"],axis=1)\n",
    "x=df"
   ]
  },
  {
   "cell_type": "code",
   "execution_count": 4,
   "metadata": {},
   "outputs": [
    {
     "data": {
      "text/html": [
       "<div>\n",
       "<style scoped>\n",
       "    .dataframe tbody tr th:only-of-type {\n",
       "        vertical-align: middle;\n",
       "    }\n",
       "\n",
       "    .dataframe tbody tr th {\n",
       "        vertical-align: top;\n",
       "    }\n",
       "\n",
       "    .dataframe thead th {\n",
       "        text-align: right;\n",
       "    }\n",
       "</style>\n",
       "<table border=\"1\" class=\"dataframe\">\n",
       "  <thead>\n",
       "    <tr style=\"text-align: right;\">\n",
       "      <th></th>\n",
       "      <th>Id</th>\n",
       "      <th>SepalLengthCm</th>\n",
       "      <th>SepalWidthCm</th>\n",
       "      <th>PetalLengthCm</th>\n",
       "      <th>PetalWidthCm</th>\n",
       "    </tr>\n",
       "  </thead>\n",
       "  <tbody>\n",
       "    <tr>\n",
       "      <th>0</th>\n",
       "      <td>1</td>\n",
       "      <td>5.1</td>\n",
       "      <td>3.5</td>\n",
       "      <td>1.4</td>\n",
       "      <td>0.2</td>\n",
       "    </tr>\n",
       "    <tr>\n",
       "      <th>1</th>\n",
       "      <td>2</td>\n",
       "      <td>4.9</td>\n",
       "      <td>3.0</td>\n",
       "      <td>1.4</td>\n",
       "      <td>0.2</td>\n",
       "    </tr>\n",
       "    <tr>\n",
       "      <th>2</th>\n",
       "      <td>3</td>\n",
       "      <td>4.7</td>\n",
       "      <td>3.2</td>\n",
       "      <td>1.3</td>\n",
       "      <td>0.2</td>\n",
       "    </tr>\n",
       "    <tr>\n",
       "      <th>3</th>\n",
       "      <td>4</td>\n",
       "      <td>4.6</td>\n",
       "      <td>3.1</td>\n",
       "      <td>1.5</td>\n",
       "      <td>0.2</td>\n",
       "    </tr>\n",
       "    <tr>\n",
       "      <th>4</th>\n",
       "      <td>5</td>\n",
       "      <td>5.0</td>\n",
       "      <td>3.6</td>\n",
       "      <td>1.4</td>\n",
       "      <td>0.2</td>\n",
       "    </tr>\n",
       "  </tbody>\n",
       "</table>\n",
       "</div>"
      ],
      "text/plain": [
       "   Id  SepalLengthCm  SepalWidthCm  PetalLengthCm  PetalWidthCm\n",
       "0   1            5.1           3.5            1.4           0.2\n",
       "1   2            4.9           3.0            1.4           0.2\n",
       "2   3            4.7           3.2            1.3           0.2\n",
       "3   4            4.6           3.1            1.5           0.2\n",
       "4   5            5.0           3.6            1.4           0.2"
      ]
     },
     "execution_count": 4,
     "metadata": {},
     "output_type": "execute_result"
    }
   ],
   "source": [
    "x.head()"
   ]
  },
  {
   "cell_type": "code",
   "execution_count": 5,
   "metadata": {},
   "outputs": [],
   "source": [
    "my_feature_columns=[]"
   ]
  },
  {
   "cell_type": "code",
   "execution_count": 6,
   "metadata": {},
   "outputs": [],
   "source": [
    "for key in x.keys():\n",
    "    my_feature_columns.append(tf.feature_column.numeric_column(key=key))"
   ]
  },
  {
   "cell_type": "code",
   "execution_count": 7,
   "metadata": {},
   "outputs": [
    {
     "name": "stdout",
     "output_type": "stream",
     "text": [
      "INFO:tensorflow:Using default config.\n",
      "WARNING:tensorflow:Using temporary folder as model directory: C:\\Users\\4shub\\AppData\\Local\\Temp\\tmpmcjvz5c7\n",
      "INFO:tensorflow:Using config: {'_model_dir': 'C:\\\\Users\\\\4shub\\\\AppData\\\\Local\\\\Temp\\\\tmpmcjvz5c7', '_tf_random_seed': None, '_save_summary_steps': 100, '_save_checkpoints_steps': None, '_save_checkpoints_secs': 600, '_session_config': None, '_keep_checkpoint_max': 5, '_keep_checkpoint_every_n_hours': 10000, '_log_step_count_steps': 100, '_train_distribute': None, '_device_fn': None, '_service': None, '_cluster_spec': <tensorflow.python.training.server_lib.ClusterSpec object at 0x000001574BC05668>, '_task_type': 'worker', '_task_id': 0, '_global_id_in_cluster': 0, '_master': '', '_evaluation_master': '', '_is_chief': True, '_num_ps_replicas': 0, '_num_worker_replicas': 1}\n"
     ]
    }
   ],
   "source": [
    "clf=tf.estimator.DNNClassifier(feature_columns=my_feature_columns,hidden_units=[10,10],n_classes=3)"
   ]
  },
  {
   "cell_type": "code",
   "execution_count": 8,
   "metadata": {},
   "outputs": [
    {
     "name": "stdout",
     "output_type": "stream",
     "text": [
      "<bound method NDFrame.keys of       Id  SepalLengthCm  SepalWidthCm  PetalLengthCm  PetalWidthCm\n",
      "0      1            5.1           3.5            1.4           0.2\n",
      "1      2            4.9           3.0            1.4           0.2\n",
      "2      3            4.7           3.2            1.3           0.2\n",
      "3      4            4.6           3.1            1.5           0.2\n",
      "4      5            5.0           3.6            1.4           0.2\n",
      "5      6            5.4           3.9            1.7           0.4\n",
      "6      7            4.6           3.4            1.4           0.3\n",
      "7      8            5.0           3.4            1.5           0.2\n",
      "8      9            4.4           2.9            1.4           0.2\n",
      "9     10            4.9           3.1            1.5           0.1\n",
      "10    11            5.4           3.7            1.5           0.2\n",
      "11    12            4.8           3.4            1.6           0.2\n",
      "12    13            4.8           3.0            1.4           0.1\n",
      "13    14            4.3           3.0            1.1           0.1\n",
      "14    15            5.8           4.0            1.2           0.2\n",
      "15    16            5.7           4.4            1.5           0.4\n",
      "16    17            5.4           3.9            1.3           0.4\n",
      "17    18            5.1           3.5            1.4           0.3\n",
      "18    19            5.7           3.8            1.7           0.3\n",
      "19    20            5.1           3.8            1.5           0.3\n",
      "20    21            5.4           3.4            1.7           0.2\n",
      "21    22            5.1           3.7            1.5           0.4\n",
      "22    23            4.6           3.6            1.0           0.2\n",
      "23    24            5.1           3.3            1.7           0.5\n",
      "24    25            4.8           3.4            1.9           0.2\n",
      "25    26            5.0           3.0            1.6           0.2\n",
      "26    27            5.0           3.4            1.6           0.4\n",
      "27    28            5.2           3.5            1.5           0.2\n",
      "28    29            5.2           3.4            1.4           0.2\n",
      "29    30            4.7           3.2            1.6           0.2\n",
      "..   ...            ...           ...            ...           ...\n",
      "120  121            6.9           3.2            5.7           2.3\n",
      "121  122            5.6           2.8            4.9           2.0\n",
      "122  123            7.7           2.8            6.7           2.0\n",
      "123  124            6.3           2.7            4.9           1.8\n",
      "124  125            6.7           3.3            5.7           2.1\n",
      "125  126            7.2           3.2            6.0           1.8\n",
      "126  127            6.2           2.8            4.8           1.8\n",
      "127  128            6.1           3.0            4.9           1.8\n",
      "128  129            6.4           2.8            5.6           2.1\n",
      "129  130            7.2           3.0            5.8           1.6\n",
      "130  131            7.4           2.8            6.1           1.9\n",
      "131  132            7.9           3.8            6.4           2.0\n",
      "132  133            6.4           2.8            5.6           2.2\n",
      "133  134            6.3           2.8            5.1           1.5\n",
      "134  135            6.1           2.6            5.6           1.4\n",
      "135  136            7.7           3.0            6.1           2.3\n",
      "136  137            6.3           3.4            5.6           2.4\n",
      "137  138            6.4           3.1            5.5           1.8\n",
      "138  139            6.0           3.0            4.8           1.8\n",
      "139  140            6.9           3.1            5.4           2.1\n",
      "140  141            6.7           3.1            5.6           2.4\n",
      "141  142            6.9           3.1            5.1           2.3\n",
      "142  143            5.8           2.7            5.1           1.9\n",
      "143  144            6.8           3.2            5.9           2.3\n",
      "144  145            6.7           3.3            5.7           2.5\n",
      "145  146            6.7           3.0            5.2           2.3\n",
      "146  147            6.3           2.5            5.0           1.9\n",
      "147  148            6.5           3.0            5.2           2.0\n",
      "148  149            6.2           3.4            5.4           2.3\n",
      "149  150            5.9           3.0            5.1           1.8\n",
      "\n",
      "[150 rows x 5 columns]>\n"
     ]
    }
   ],
   "source": [
    "feature_columns=[]\n",
    "print(df.keys)"
   ]
  },
  {
   "cell_type": "code",
   "execution_count": 9,
   "metadata": {},
   "outputs": [],
   "source": [
    "for key in df.keys():\n",
    "    if key=='Id':\n",
    "        continue\n",
    "    if key=='Species':\n",
    "        continue\n",
    "    feature_columns.append(tf.contrib.layers.feature_column.real_valued_column(key))    "
   ]
  },
  {
   "cell_type": "code",
   "execution_count": 10,
   "metadata": {},
   "outputs": [
    {
     "data": {
      "text/plain": [
       "[_RealValuedColumn(column_name='SepalLengthCm', dimension=1, default_value=None, dtype=tf.float32, normalizer=None),\n",
       " _RealValuedColumn(column_name='SepalWidthCm', dimension=1, default_value=None, dtype=tf.float32, normalizer=None),\n",
       " _RealValuedColumn(column_name='PetalLengthCm', dimension=1, default_value=None, dtype=tf.float32, normalizer=None),\n",
       " _RealValuedColumn(column_name='PetalWidthCm', dimension=1, default_value=None, dtype=tf.float32, normalizer=None)]"
      ]
     },
     "execution_count": 10,
     "metadata": {},
     "output_type": "execute_result"
    }
   ],
   "source": [
    "feature_columns"
   ]
  },
  {
   "cell_type": "code",
   "execution_count": 11,
   "metadata": {},
   "outputs": [
    {
     "name": "stdout",
     "output_type": "stream",
     "text": [
      "Index(['Id', 'SepalLengthCm', 'SepalWidthCm', 'PetalLengthCm', 'PetalWidthCm'], dtype='object')\n"
     ]
    }
   ],
   "source": [
    "print(df.keys())"
   ]
  },
  {
   "cell_type": "code",
   "execution_count": 12,
   "metadata": {},
   "outputs": [
    {
     "name": "stdout",
     "output_type": "stream",
     "text": [
      "INFO:tensorflow:Using default config.\n",
      "WARNING:tensorflow:Using temporary folder as model directory: C:\\Users\\4shub\\AppData\\Local\\Temp\\tmpsxu49i66\n",
      "INFO:tensorflow:Using config: {'_model_dir': 'C:\\\\Users\\\\4shub\\\\AppData\\\\Local\\\\Temp\\\\tmpsxu49i66', '_tf_random_seed': None, '_save_summary_steps': 100, '_save_checkpoints_steps': None, '_save_checkpoints_secs': 600, '_session_config': None, '_keep_checkpoint_max': 5, '_keep_checkpoint_every_n_hours': 10000, '_log_step_count_steps': 100, '_train_distribute': None, '_device_fn': None, '_service': None, '_cluster_spec': <tensorflow.python.training.server_lib.ClusterSpec object at 0x000001574BC05198>, '_task_type': 'worker', '_task_id': 0, '_global_id_in_cluster': 0, '_master': '', '_evaluation_master': '', '_is_chief': True, '_num_ps_replicas': 0, '_num_worker_replicas': 1}\n"
     ]
    }
   ],
   "source": [
    "estimator=tf.estimator.DNNClassifier(feature_columns=feature_columns,hidden_units=[10],n_classes=3)"
   ]
  },
  {
   "cell_type": "code",
   "execution_count": 13,
   "metadata": {},
   "outputs": [],
   "source": [
    "def my_input_fn():\n",
    "    df=pd.read_csv(\"iris.csv\")\n",
    "    df=df.drop([\"Id\"],axis=1)\n",
    "    #y=df[\"Species\"]\n",
    "    y=pd.Categorical(df[\"Species\"]).codes\n",
    "    y=np.array(y,dtype=np.int32)\n",
    "    df=df.drop([\"Species\"],axis=1)\n",
    "    x=(df)\n",
    "    x_train,y_train,x_test,y_test=sklearn.model_selection.train_test_split(x,y,test_size=0.2)\n",
    "    #print(x)\n",
    "    return x_train,x_test,y_train,y_test"
   ]
  },
  {
   "cell_type": "code",
   "execution_count": 14,
   "metadata": {},
   "outputs": [],
   "source": [
    "X_TRAIN,Y_TRAIN,X_TEST,Y_TEST=my_input_fn()"
   ]
  },
  {
   "cell_type": "code",
   "execution_count": 20,
   "metadata": {},
   "outputs": [
    {
     "name": "stdout",
     "output_type": "stream",
     "text": [
      "INFO:tensorflow:Could not find trained model in model_dir: C:\\Users\\4shub\\AppData\\Local\\Temp\\tmpsxu49i66, running initialization to evaluate.\n",
      "INFO:tensorflow:Calling model_fn.\n",
      "INFO:tensorflow:Done calling model_fn.\n",
      "INFO:tensorflow:Starting evaluation at 2018-07-13-08:02:08\n",
      "INFO:tensorflow:Graph was finalized.\n",
      "INFO:tensorflow:Running local_init_op.\n",
      "INFO:tensorflow:Done running local_init_op.\n",
      "INFO:tensorflow:Evaluation [2/21]\n",
      "INFO:tensorflow:Evaluation [4/21]\n",
      "INFO:tensorflow:Evaluation [6/21]\n",
      "INFO:tensorflow:Evaluation [8/21]\n",
      "INFO:tensorflow:Evaluation [10/21]\n",
      "INFO:tensorflow:Evaluation [12/21]\n",
      "INFO:tensorflow:Evaluation [14/21]\n",
      "INFO:tensorflow:Evaluation [16/21]\n",
      "INFO:tensorflow:Evaluation [18/21]\n",
      "INFO:tensorflow:Evaluation [20/21]\n",
      "INFO:tensorflow:Evaluation [21/21]\n",
      "INFO:tensorflow:Finished evaluation at 2018-07-13-08:02:09\n",
      "INFO:tensorflow:Saving dict for global step 0: accuracy = 0.2, average_loss = 1.4864645, global_step = 0, loss = 178.37575\n"
     ]
    },
    {
     "data": {
      "text/plain": [
       "{'accuracy': 0.2,\n",
       " 'average_loss': 1.4864645,\n",
       " 'global_step': 0,\n",
       " 'loss': 178.37575}"
      ]
     },
     "execution_count": 20,
     "metadata": {},
     "output_type": "execute_result"
    }
   ],
   "source": [
    "estimator.evaluate(input_fn=my_input_fn_train,steps=21)"
   ]
  },
  {
   "cell_type": "code",
   "execution_count": 21,
   "metadata": {},
   "outputs": [],
   "source": [
    "def my_input_fn_train():\n",
    "    return dict(X_TRAIN),Y_TRAIN\n",
    "def my_input_fn_test():\n",
    "    return dict(X_TEST),Y_TEST\n"
   ]
  },
  {
   "cell_type": "code",
   "execution_count": 22,
   "metadata": {},
   "outputs": [
    {
     "name": "stdout",
     "output_type": "stream",
     "text": [
      "INFO:tensorflow:Could not find trained model in model_dir: C:\\Users\\4shub\\AppData\\Local\\Temp\\tmpsxu49i66, running initialization to evaluate.\n",
      "INFO:tensorflow:Calling model_fn.\n",
      "INFO:tensorflow:Done calling model_fn.\n",
      "INFO:tensorflow:Starting evaluation at 2018-07-13-08:02:15\n",
      "INFO:tensorflow:Graph was finalized.\n",
      "INFO:tensorflow:Running local_init_op.\n",
      "INFO:tensorflow:Done running local_init_op.\n",
      "INFO:tensorflow:Evaluation [2/21]\n",
      "INFO:tensorflow:Evaluation [4/21]\n",
      "INFO:tensorflow:Evaluation [6/21]\n",
      "INFO:tensorflow:Evaluation [8/21]\n",
      "INFO:tensorflow:Evaluation [10/21]\n",
      "INFO:tensorflow:Evaluation [12/21]\n",
      "INFO:tensorflow:Evaluation [14/21]\n",
      "INFO:tensorflow:Evaluation [16/21]\n",
      "INFO:tensorflow:Evaluation [18/21]\n",
      "INFO:tensorflow:Evaluation [20/21]\n",
      "INFO:tensorflow:Evaluation [21/21]\n",
      "INFO:tensorflow:Finished evaluation at 2018-07-13-08:02:15\n",
      "INFO:tensorflow:Saving dict for global step 0: accuracy = 0.36666667, average_loss = 1.7494423, global_step = 0, loss = 52.48327\n"
     ]
    },
    {
     "data": {
      "text/plain": [
       "{'accuracy': 0.36666667,\n",
       " 'average_loss': 1.7494423,\n",
       " 'global_step': 0,\n",
       " 'loss': 52.48327}"
      ]
     },
     "execution_count": 22,
     "metadata": {},
     "output_type": "execute_result"
    }
   ],
   "source": [
    "estimator.evaluate(input_fn=my_input_fn_test,steps=21)"
   ]
  },
  {
   "cell_type": "code",
   "execution_count": null,
   "metadata": {},
   "outputs": [],
   "source": []
  }
 ],
 "metadata": {
  "kernelspec": {
   "display_name": "Python 3",
   "language": "python",
   "name": "python3"
  },
  "language_info": {
   "codemirror_mode": {
    "name": "ipython",
    "version": 3
   },
   "file_extension": ".py",
   "mimetype": "text/x-python",
   "name": "python",
   "nbconvert_exporter": "python",
   "pygments_lexer": "ipython3",
   "version": "3.6.4"
  }
 },
 "nbformat": 4,
 "nbformat_minor": 2
}
